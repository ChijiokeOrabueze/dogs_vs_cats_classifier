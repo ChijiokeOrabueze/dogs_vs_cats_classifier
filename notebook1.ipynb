{
 "cells": [
  {
   "cell_type": "code",
   "execution_count": 15,
   "id": "a362b188",
   "metadata": {},
   "outputs": [],
   "source": [
    "import os, shutil\n",
    "from keras import layers, models, optimizers\n",
    "from keras.preprocessing.image import ImageDataGenerator\n",
    "import numpy as np"
   ]
  },
  {
   "cell_type": "code",
   "execution_count": 5,
   "id": "6143c783",
   "metadata": {},
   "outputs": [],
   "source": [
    "orginal_dataset_dir = \"/home/cj/DL/data/dogs-vs-cats\"\n",
    "orginal_train_dir = os.path.join(orginal_dataset_dir, \"train\")\n",
    "\n",
    "\n",
    "os.chmod(orginal_dataset_dir, 0o777)\n",
    "\n",
    "base_dir = os.path.join(orginal_dataset_dir, 'sub_set')\n",
    "\n",
    "create_dir_if_not_exist(base_dir)\n",
    "\n",
    "train_dir = os.path.join(base_dir, \"train\")\n",
    "\n",
    "create_dir_if_not_exist(train_dir)\n",
    "\n",
    "validation_dir = os.path.join(base_dir, \"validation\")\n",
    "\n",
    "create_dir_if_not_exist(validation_dir)\n",
    "\n",
    "test_dir = os.path.join(base_dir, \"test\")\n",
    "\n",
    "create_dir_if_not_exist(test_dir)\n",
    "\n",
    "\n",
    "train_cats_dir = os.path.join(train_dir, \"cats\")\n",
    "\n",
    "create_dir_if_not_exist(train_cats_dir)\n",
    "\n",
    "train_dogs_dir = os.path.join(train_dir, \"dogs\")\n",
    "\n",
    "create_dir_if_not_exist(train_dogs_dir)\n",
    "\n",
    "\n",
    "validation_cats_dir = os.path.join(validation_dir, \"cats\")\n",
    "\n",
    "create_dir_if_not_exist(validation_cats_dir)\n",
    "\n",
    "validation_dogs_dir = os.path.join(validation_dir, \"dogs\")\n",
    "\n",
    "create_dir_if_not_exist(validation_dogs_dir)\n",
    "\n",
    "\n",
    "test_cats_dir = os.path.join(test_dir, \"cats\")\n",
    "\n",
    "create_dir_if_not_exist(test_cats_dir)\n",
    "\n",
    "test_dogs_dir = os.path.join(test_dir, \"dogs\")\n",
    "\n",
    "create_dir_if_not_exist(test_dogs_dir)\n",
    "\n",
    "\n"
   ]
  },
  {
   "cell_type": "code",
   "execution_count": 4,
   "id": "c7c17b8d",
   "metadata": {},
   "outputs": [],
   "source": [
    "def create_dir_if_not_exist (url):\n",
    "    \n",
    "    if not (os.path.exists(url)):\n",
    "        os.mkdir(url)"
   ]
  },
  {
   "cell_type": "code",
   "execution_count": 41,
   "id": "6178b648",
   "metadata": {},
   "outputs": [],
   "source": [
    "\n",
    "\n",
    "def copy_data_to_correct_dir():\n",
    "    \n",
    "    start_index = 0\n",
    "    \n",
    "    for i in range(0,3):\n",
    "        \n",
    "        \n",
    "        \n",
    "        base_url = [train_dogs_dir, train_cats_dir] \n",
    "        \n",
    "        if i == 1:\n",
    "            base_url = [validation_dogs_dir, validation_cats_dir]\n",
    "        elif i == 2:\n",
    "            base_url = [test_dogs_dir, test_cats_dir]\n",
    "        \n",
    "        end_index = start_index + (500 if i > 0 else 1000)\n",
    "        \n",
    "        for index in range(start_index, end_index):\n",
    "            \n",
    "            file_name = f'dog.{index}.jpg'\n",
    "            src_url = os.path.join(orginal_train_dir, file_name)\n",
    "            destination_url = os.path.join(base_url[0], file_name)\n",
    "            \n",
    "            if not os.path.exists(destination_url):\n",
    "                shutil.copyfile(src_url, destination_url)\n",
    "            \n",
    "            \n",
    "            file_name = f'cat.{index}.jpg'\n",
    "            src_url = os.path.join(orginal_train_dir, file_name)\n",
    "            destination_url = os.path.join(base_url[1], file_name)\n",
    "        \n",
    "            if not os.path.exists(destination_url):\n",
    "                shutil.copyfile(src_url, destination_url)\n",
    "        \n",
    "       \n",
    "       \n",
    "        start_index = end_index"
   ]
  },
  {
   "cell_type": "code",
   "execution_count": 43,
   "id": "8b7837b4",
   "metadata": {},
   "outputs": [],
   "source": [
    "copy_data_to_correct_dir()"
   ]
  },
  {
   "cell_type": "code",
   "execution_count": 46,
   "id": "c71dba96",
   "metadata": {},
   "outputs": [
    {
     "name": "stdout",
     "output_type": "stream",
     "text": [
      "total training cat images: 1000\n",
      "total training dog images: 1000\n",
      "total validation cat images: 500\n",
      "total validation dog images: 500\n",
      "total test cat images: 500\n",
      "total test dog images: 500\n"
     ]
    }
   ],
   "source": [
    "print('total training cat images:', len(os.listdir(train_cats_dir)))\n",
    "\n",
    "print('total training dog images:', len(os.listdir(train_dogs_dir)))\n",
    "\n",
    "print('total validation cat images:', len(os.listdir(validation_cats_dir)))\n",
    "\n",
    "print('total validation dog images:', len(os.listdir(validation_dogs_dir)))\n",
    "\n",
    "print('total test cat images:', len(os.listdir(test_cats_dir)))\n",
    "\n",
    "print('total test dog images:', len(os.listdir(test_dogs_dir)))"
   ]
  },
  {
   "cell_type": "code",
   "execution_count": 49,
   "id": "922e591c",
   "metadata": {},
   "outputs": [],
   "source": [
    "model1 = models.Sequential();\n",
    "model1.add(layers.Conv2D(32, (3, 3), activation=\"relu\", input_shape=(150, 150, 3)))\n",
    "model1.add(layers.MaxPooling2D((2,2)))\n",
    "model1.add(layers.Conv2D(64, (3, 3), activation='relu'))\n",
    "model1.add(layers.MaxPooling2D((2,2)))\n",
    "model1.add(layers.Conv2D(128, (3, 3), activation='relu'))\n",
    "model1.add(layers.MaxPooling2D((2,2)))\n",
    "model1.add(layers.Conv2D(128, (3, 3), activation='relu'))\n",
    "model1.add(layers.MaxPooling2D((2,2)))\n",
    "model1.add(layers.Flatten())\n",
    "model1.add(layers.Dense(512, activation='relu'))\n",
    "model1.add(layers.Dense(1, activation='sigmoid'))"
   ]
  },
  {
   "cell_type": "code",
   "execution_count": 50,
   "id": "f342bc3f",
   "metadata": {},
   "outputs": [
    {
     "name": "stdout",
     "output_type": "stream",
     "text": [
      "Model: \"sequential_1\"\n",
      "_________________________________________________________________\n",
      " Layer (type)                Output Shape              Param #   \n",
      "=================================================================\n",
      " conv2d_1 (Conv2D)           (None, 148, 148, 32)      896       \n",
      "                                                                 \n",
      " max_pooling2d_1 (MaxPooling  (None, 74, 74, 32)       0         \n",
      " 2D)                                                             \n",
      "                                                                 \n",
      " conv2d_2 (Conv2D)           (None, 72, 72, 64)        18496     \n",
      "                                                                 \n",
      " max_pooling2d_2 (MaxPooling  (None, 36, 36, 64)       0         \n",
      " 2D)                                                             \n",
      "                                                                 \n",
      " conv2d_3 (Conv2D)           (None, 34, 34, 128)       73856     \n",
      "                                                                 \n",
      " max_pooling2d_3 (MaxPooling  (None, 17, 17, 128)      0         \n",
      " 2D)                                                             \n",
      "                                                                 \n",
      " conv2d_4 (Conv2D)           (None, 15, 15, 128)       147584    \n",
      "                                                                 \n",
      " max_pooling2d_4 (MaxPooling  (None, 7, 7, 128)        0         \n",
      " 2D)                                                             \n",
      "                                                                 \n",
      " flatten (Flatten)           (None, 6272)              0         \n",
      "                                                                 \n",
      " dense (Dense)               (None, 512)               3211776   \n",
      "                                                                 \n",
      " dense_1 (Dense)             (None, 1)                 513       \n",
      "                                                                 \n",
      "=================================================================\n",
      "Total params: 3,453,121\n",
      "Trainable params: 3,453,121\n",
      "Non-trainable params: 0\n",
      "_________________________________________________________________\n"
     ]
    }
   ],
   "source": [
    "model1.summary()"
   ]
  },
  {
   "cell_type": "code",
   "execution_count": 52,
   "id": "1aaaab91",
   "metadata": {},
   "outputs": [
    {
     "name": "stderr",
     "output_type": "stream",
     "text": [
      "/home/linuxbrew/.linuxbrew/opt/python@3.10/lib/python3.10/site-packages/keras/optimizers/legacy/rmsprop.py:143: UserWarning: The `lr` argument is deprecated, use `learning_rate` instead.\n",
      "  super().__init__(name, **kwargs)\n"
     ]
    }
   ],
   "source": [
    "model1.compile(loss='binary_crossentropy',\n",
    "              optimizer=optimizers.RMSprop(lr=1e-4),\n",
    "              metrics=[\"accuracy\"])"
   ]
  },
  {
   "cell_type": "code",
   "execution_count": 53,
   "id": "4bb842ba",
   "metadata": {},
   "outputs": [],
   "source": [
    "\n"
   ]
  },
  {
   "cell_type": "code",
   "execution_count": 55,
   "id": "f116a0ea",
   "metadata": {},
   "outputs": [
    {
     "name": "stdout",
     "output_type": "stream",
     "text": [
      "Found 2000 images belonging to 2 classes.\n",
      "Found 1000 images belonging to 2 classes.\n"
     ]
    }
   ],
   "source": [
    "train_datagen = ImageDataGenerator(rescale=1./255)\n",
    "test_datagen = ImageDataGenerator(rescale=1./255)\n",
    "\n",
    "train_generator = train_datagen.flow_from_directory(\n",
    "    train_dir,\n",
    "    target_size=(150, 150),\n",
    "    batch_size=20,\n",
    "    class_mode='binary'\n",
    ")\n",
    "\n",
    "validation_generator = test_datagen.flow_from_directory(\n",
    "    validation_dir,\n",
    "    target_size=(150, 150),\n",
    "    batch_size=20,\n",
    "    class_mode='binary'\n",
    ")"
   ]
  },
  {
   "cell_type": "code",
   "execution_count": 56,
   "id": "8dfacaa2",
   "metadata": {},
   "outputs": [
    {
     "name": "stderr",
     "output_type": "stream",
     "text": [
      "/tmp/ipykernel_113722/1820336663.py:1: UserWarning: `Model.fit_generator` is deprecated and will be removed in a future version. Please use `Model.fit`, which supports generators.\n",
      "  history = model1.fit_generator(\n"
     ]
    },
    {
     "name": "stdout",
     "output_type": "stream",
     "text": [
      "Epoch 1/30\n"
     ]
    },
    {
     "name": "stderr",
     "output_type": "stream",
     "text": [
      "2023-09-30 14:31:33.394209: I tensorflow/core/common_runtime/executor.cc:1197] [/device:CPU:0] (DEBUG INFO) Executor start aborting (this does not indicate an error and you can ignore this message): INVALID_ARGUMENT: You must feed a value for placeholder tensor 'Placeholder/_0' with dtype int32\n",
      "\t [[{{node Placeholder/_0}}]]\n",
      "2023-09-30 14:31:36.806677: W tensorflow/tsl/framework/cpu_allocator_impl.cc:83] Allocation of 56074240 exceeds 10% of free system memory.\n",
      "2023-09-30 14:31:37.856823: W tensorflow/tsl/framework/cpu_allocator_impl.cc:83] Allocation of 56074240 exceeds 10% of free system memory.\n"
     ]
    },
    {
     "name": "stdout",
     "output_type": "stream",
     "text": [
      "\r",
      "  1/100 [..............................] - ETA: 7:36 - loss: 0.6908 - accuracy: 0.6000"
     ]
    },
    {
     "name": "stderr",
     "output_type": "stream",
     "text": [
      "2023-09-30 14:31:38.105948: W tensorflow/tsl/framework/cpu_allocator_impl.cc:83] Allocation of 56074240 exceeds 10% of free system memory.\n",
      "2023-09-30 14:31:39.033978: W tensorflow/tsl/framework/cpu_allocator_impl.cc:83] Allocation of 56074240 exceeds 10% of free system memory.\n"
     ]
    },
    {
     "name": "stdout",
     "output_type": "stream",
     "text": [
      "\b\b\b\b\b\b\b\b\b\b\b\b\b\b\b\b\b\b\b\b\b\b\b\b\b\b\b\b\b\b\b\b\b\b\b\b\b\b\b\b\b\b\b\b\b\b\b\b\b\b\b\b\b\b\b\b\b\b\b\b\b\b\b\b\b\b\b\b\b\b\b\b\b\b\b\b\b\b\b\b\b\b\b\b\b\b\r",
      "  2/100 [..............................] - ETA: 1:56 - loss: 0.8055 - accuracy: 0.5250"
     ]
    },
    {
     "name": "stderr",
     "output_type": "stream",
     "text": [
      "2023-09-30 14:31:39.298354: W tensorflow/tsl/framework/cpu_allocator_impl.cc:83] Allocation of 56074240 exceeds 10% of free system memory.\n"
     ]
    },
    {
     "name": "stdout",
     "output_type": "stream",
     "text": [
      "100/100 [==============================] - ETA: 0s - loss: 0.6940 - accuracy: 0.5270"
     ]
    },
    {
     "name": "stderr",
     "output_type": "stream",
     "text": [
      "2023-09-30 14:33:15.445432: I tensorflow/core/common_runtime/executor.cc:1197] [/device:CPU:0] (DEBUG INFO) Executor start aborting (this does not indicate an error and you can ignore this message): INVALID_ARGUMENT: You must feed a value for placeholder tensor 'Placeholder/_0' with dtype int32\n",
      "\t [[{{node Placeholder/_0}}]]\n"
     ]
    },
    {
     "name": "stdout",
     "output_type": "stream",
     "text": [
      "100/100 [==============================] - 114s 1s/step - loss: 0.6940 - accuracy: 0.5270 - val_loss: 0.6893 - val_accuracy: 0.5220\n",
      "Epoch 2/30\n",
      "100/100 [==============================] - 108s 1s/step - loss: 0.6603 - accuracy: 0.6165 - val_loss: 0.6486 - val_accuracy: 0.6100\n",
      "Epoch 3/30\n",
      "100/100 [==============================] - 110s 1s/step - loss: 0.6262 - accuracy: 0.6415 - val_loss: 0.6152 - val_accuracy: 0.6560\n",
      "Epoch 4/30\n",
      "100/100 [==============================] - 108s 1s/step - loss: 0.5847 - accuracy: 0.6855 - val_loss: 0.6049 - val_accuracy: 0.6640\n",
      "Epoch 5/30\n",
      "100/100 [==============================] - 107s 1s/step - loss: 0.5410 - accuracy: 0.7235 - val_loss: 0.6064 - val_accuracy: 0.6640\n",
      "Epoch 6/30\n",
      "100/100 [==============================] - 108s 1s/step - loss: 0.5185 - accuracy: 0.7310 - val_loss: 0.5594 - val_accuracy: 0.7110\n",
      "Epoch 7/30\n",
      "100/100 [==============================] - 108s 1s/step - loss: 0.4816 - accuracy: 0.7725 - val_loss: 0.5646 - val_accuracy: 0.6960\n",
      "Epoch 8/30\n",
      "100/100 [==============================] - 108s 1s/step - loss: 0.4562 - accuracy: 0.7815 - val_loss: 0.5368 - val_accuracy: 0.7340\n",
      "Epoch 9/30\n",
      "100/100 [==============================] - 108s 1s/step - loss: 0.4275 - accuracy: 0.8020 - val_loss: 0.5770 - val_accuracy: 0.7130\n",
      "Epoch 10/30\n",
      "100/100 [==============================] - 108s 1s/step - loss: 0.3959 - accuracy: 0.8190 - val_loss: 0.5478 - val_accuracy: 0.7320\n",
      "Epoch 11/30\n",
      "100/100 [==============================] - 115s 1s/step - loss: 0.3705 - accuracy: 0.8390 - val_loss: 0.5731 - val_accuracy: 0.7300\n",
      "Epoch 12/30\n",
      "100/100 [==============================] - 126s 1s/step - loss: 0.3492 - accuracy: 0.8465 - val_loss: 0.5561 - val_accuracy: 0.7310\n",
      "Epoch 13/30\n",
      "100/100 [==============================] - 106s 1s/step - loss: 0.3303 - accuracy: 0.8605 - val_loss: 0.5460 - val_accuracy: 0.7340\n",
      "Epoch 14/30\n",
      "100/100 [==============================] - 105s 1s/step - loss: 0.2982 - accuracy: 0.8755 - val_loss: 0.6823 - val_accuracy: 0.7110\n",
      "Epoch 15/30\n",
      "100/100 [==============================] - 105s 1s/step - loss: 0.2761 - accuracy: 0.8815 - val_loss: 0.6232 - val_accuracy: 0.7110\n",
      "Epoch 16/30\n",
      "100/100 [==============================] - 106s 1s/step - loss: 0.2510 - accuracy: 0.9065 - val_loss: 0.5589 - val_accuracy: 0.7530\n",
      "Epoch 17/30\n",
      "100/100 [==============================] - 105s 1s/step - loss: 0.2260 - accuracy: 0.9165 - val_loss: 0.6253 - val_accuracy: 0.7350\n",
      "Epoch 18/30\n",
      "100/100 [==============================] - 106s 1s/step - loss: 0.2212 - accuracy: 0.9160 - val_loss: 0.6324 - val_accuracy: 0.7360\n",
      "Epoch 19/30\n",
      "100/100 [==============================] - 106s 1s/step - loss: 0.1820 - accuracy: 0.9300 - val_loss: 0.6691 - val_accuracy: 0.7350\n",
      "Epoch 20/30\n",
      "100/100 [==============================] - 106s 1s/step - loss: 0.1676 - accuracy: 0.9480 - val_loss: 0.6439 - val_accuracy: 0.7490\n",
      "Epoch 21/30\n",
      "100/100 [==============================] - 106s 1s/step - loss: 0.1425 - accuracy: 0.9500 - val_loss: 0.7429 - val_accuracy: 0.7290\n",
      "Epoch 22/30\n",
      "100/100 [==============================] - 106s 1s/step - loss: 0.1291 - accuracy: 0.9600 - val_loss: 0.7084 - val_accuracy: 0.7380\n",
      "Epoch 23/30\n",
      "100/100 [==============================] - 114s 1s/step - loss: 0.1067 - accuracy: 0.9665 - val_loss: 0.7707 - val_accuracy: 0.7420\n",
      "Epoch 24/30\n",
      "100/100 [==============================] - 111s 1s/step - loss: 0.0922 - accuracy: 0.9690 - val_loss: 0.9110 - val_accuracy: 0.7200\n",
      "Epoch 25/30\n",
      "100/100 [==============================] - 104s 1s/step - loss: 0.0832 - accuracy: 0.9770 - val_loss: 0.9572 - val_accuracy: 0.7320\n",
      "Epoch 26/30\n",
      "100/100 [==============================] - 112s 1s/step - loss: 0.0772 - accuracy: 0.9765 - val_loss: 0.8127 - val_accuracy: 0.7510\n",
      "Epoch 27/30\n",
      "100/100 [==============================] - 103s 1s/step - loss: 0.0646 - accuracy: 0.9815 - val_loss: 0.9431 - val_accuracy: 0.7410\n",
      "Epoch 28/30\n",
      "100/100 [==============================] - 105s 1s/step - loss: 0.0536 - accuracy: 0.9885 - val_loss: 0.9056 - val_accuracy: 0.7380\n",
      "Epoch 29/30\n",
      "100/100 [==============================] - 102s 1s/step - loss: 0.0468 - accuracy: 0.9880 - val_loss: 1.0747 - val_accuracy: 0.7330\n",
      "Epoch 30/30\n",
      "100/100 [==============================] - 103s 1s/step - loss: 0.0386 - accuracy: 0.9895 - val_loss: 1.0155 - val_accuracy: 0.7500\n"
     ]
    }
   ],
   "source": [
    "history = model1.fit_generator(\n",
    "    train_generator,\n",
    "    steps_per_epoch=100,\n",
    "    epochs=30,\n",
    "    validation_data=validation_generator,\n",
    "    validation_steps=50\n",
    ")"
   ]
  },
  {
   "cell_type": "markdown",
   "id": "1bdc8f46",
   "metadata": {},
   "source": [
    "<h1>DATA AUGMENTATION</h1>"
   ]
  },
  {
   "cell_type": "code",
   "execution_count": 11,
   "id": "bc386f18",
   "metadata": {},
   "outputs": [],
   "source": [
    "aug_train_datagen = ImageDataGenerator(\n",
    "    rescale=1./255,\n",
    "    rotation_range=40,\n",
    "    width_shift_range=0.2,\n",
    "    height_shift_range=0.2,\n",
    "    shear_range=0.2,\n",
    "    zoom_range=0.2,\n",
    "    horizontal_flip=True,\n",
    ")\n",
    "\n",
    "aug_test_datagen = ImageDataGenerator(rescale=1./255)"
   ]
  },
  {
   "cell_type": "code",
   "execution_count": 12,
   "id": "e6971e5b",
   "metadata": {},
   "outputs": [
    {
     "name": "stdout",
     "output_type": "stream",
     "text": [
      "Found 2000 images belonging to 2 classes.\n",
      "Found 1000 images belonging to 2 classes.\n"
     ]
    }
   ],
   "source": [
    "aug_train_generator = aug_train_datagen.flow_from_directory(\n",
    "    train_dir,\n",
    "    target_size=(150, 150),\n",
    "    batch_size=32,\n",
    "    class_mode='binary'\n",
    ")\n",
    "\n",
    "aug_validation_generator = aug_test_datagen.flow_from_directory(\n",
    "    validation_dir,\n",
    "    target_size=(150, 150),\n",
    "    batch_size=32,\n",
    "    class_mode='binary'\n",
    ")\n"
   ]
  },
  {
   "cell_type": "code",
   "execution_count": 7,
   "id": "249f469c",
   "metadata": {},
   "outputs": [
    {
     "name": "stderr",
     "output_type": "stream",
     "text": [
      "2023-09-30 20:47:45.397665: E tensorflow/compiler/xla/stream_executor/cuda/cuda_driver.cc:266] failed call to cuInit: CUDA_ERROR_NO_DEVICE: no CUDA-capable device is detected\n"
     ]
    }
   ],
   "source": [
    "model2 = models.Sequential()\n",
    "model2.add(layers.Conv2D(32, (3, 3), activation=\"relu\", input_shape=(150, 150, 3)))\n",
    "model2.add(layers.MaxPooling2D((2,2)))\n",
    "model2.add(layers.Conv2D(64, (3, 3), activation='relu'))\n",
    "model2.add(layers.MaxPooling2D((2,2)))\n",
    "model2.add(layers.Conv2D(128, (3, 3), activation='relu'))\n",
    "model2.add(layers.MaxPooling2D((2,2)))\n",
    "model2.add(layers.Conv2D(128, (3, 3), activation='relu'))\n",
    "model2.add(layers.MaxPooling2D((2,2)))\n",
    "model2.add(layers.Flatten())\n",
    "model2.add(layers.Dropout(0.5))\n",
    "model2.add(layers.Dense(512, activation='relu'))\n",
    "model2.add(layers.Dense(1, activation='sigmoid'))"
   ]
  },
  {
   "cell_type": "code",
   "execution_count": 9,
   "id": "025570a8",
   "metadata": {},
   "outputs": [],
   "source": [
    "model2.compile(\n",
    "    loss='binary_crossentropy',\n",
    "    optimizer=optimizers.RMSprop(learning_rate=1e-4),\n",
    "    metrics=[\"acc\"]\n",
    ")"
   ]
  },
  {
   "cell_type": "code",
   "execution_count": 14,
   "id": "822b3c28",
   "metadata": {},
   "outputs": [
    {
     "name": "stdout",
     "output_type": "stream",
     "text": [
      "Epoch 1/30\n"
     ]
    },
    {
     "name": "stderr",
     "output_type": "stream",
     "text": [
      "2023-09-30 21:19:45.568210: I tensorflow/core/common_runtime/executor.cc:1197] [/device:CPU:0] (DEBUG INFO) Executor start aborting (this does not indicate an error and you can ignore this message): INVALID_ARGUMENT: You must feed a value for placeholder tensor 'Placeholder/_0' with dtype int32\n",
      "\t [[{{node Placeholder/_0}}]]\n"
     ]
    },
    {
     "name": "stdout",
     "output_type": "stream",
     "text": [
      "63/63 [==============================] - ETA: 0s - loss: 0.6780 - acc: 0.5755"
     ]
    },
    {
     "name": "stderr",
     "output_type": "stream",
     "text": [
      "2023-09-30 21:21:20.864175: I tensorflow/core/common_runtime/executor.cc:1197] [/device:CPU:0] (DEBUG INFO) Executor start aborting (this does not indicate an error and you can ignore this message): INVALID_ARGUMENT: You must feed a value for placeholder tensor 'Placeholder/_0' with dtype int32\n",
      "\t [[{{node Placeholder/_0}}]]\n"
     ]
    },
    {
     "name": "stdout",
     "output_type": "stream",
     "text": [
      "63/63 [==============================] - 107s 2s/step - loss: 0.6780 - acc: 0.5755 - val_loss: 0.6854 - val_acc: 0.5250\n",
      "Epoch 2/30\n",
      "63/63 [==============================] - 105s 2s/step - loss: 0.6707 - acc: 0.5875 - val_loss: 0.6817 - val_acc: 0.5470\n",
      "Epoch 3/30\n",
      "63/63 [==============================] - 105s 2s/step - loss: 0.6658 - acc: 0.5955 - val_loss: 0.7457 - val_acc: 0.5070\n",
      "Epoch 4/30\n",
      "63/63 [==============================] - 106s 2s/step - loss: 0.6580 - acc: 0.6110 - val_loss: 0.6457 - val_acc: 0.6010\n",
      "Epoch 5/30\n",
      "63/63 [==============================] - 106s 2s/step - loss: 0.6495 - acc: 0.6105 - val_loss: 0.6183 - val_acc: 0.6640\n",
      "Epoch 6/30\n",
      "63/63 [==============================] - 108s 2s/step - loss: 0.6429 - acc: 0.6210 - val_loss: 0.5994 - val_acc: 0.6730\n",
      "Epoch 7/30\n",
      "63/63 [==============================] - 105s 2s/step - loss: 0.6238 - acc: 0.6535 - val_loss: 0.6594 - val_acc: 0.5930\n",
      "Epoch 8/30\n",
      "63/63 [==============================] - 106s 2s/step - loss: 0.6102 - acc: 0.6525 - val_loss: 0.5800 - val_acc: 0.6900\n",
      "Epoch 9/30\n",
      "63/63 [==============================] - 105s 2s/step - loss: 0.6030 - acc: 0.6645 - val_loss: 0.5947 - val_acc: 0.6820\n",
      "Epoch 10/30\n",
      "63/63 [==============================] - 106s 2s/step - loss: 0.6008 - acc: 0.6720 - val_loss: 0.6351 - val_acc: 0.6450\n",
      "Epoch 11/30\n",
      "63/63 [==============================] - 104s 2s/step - loss: 0.5966 - acc: 0.6690 - val_loss: 0.7022 - val_acc: 0.5810\n",
      "Epoch 12/30\n",
      "63/63 [==============================] - 104s 2s/step - loss: 0.5917 - acc: 0.6870 - val_loss: 0.5524 - val_acc: 0.7030\n",
      "Epoch 13/30\n",
      "63/63 [==============================] - 104s 2s/step - loss: 0.5819 - acc: 0.6930 - val_loss: 0.5532 - val_acc: 0.7040\n",
      "Epoch 14/30\n",
      "63/63 [==============================] - 104s 2s/step - loss: 0.5742 - acc: 0.6890 - val_loss: 0.5505 - val_acc: 0.7010\n",
      "Epoch 15/30\n",
      "63/63 [==============================] - 106s 2s/step - loss: 0.5743 - acc: 0.7015 - val_loss: 0.5714 - val_acc: 0.6990\n",
      "Epoch 16/30\n",
      "63/63 [==============================] - 103s 2s/step - loss: 0.5588 - acc: 0.7040 - val_loss: 0.5422 - val_acc: 0.7180\n",
      "Epoch 17/30\n",
      "63/63 [==============================] - 105s 2s/step - loss: 0.5634 - acc: 0.7050 - val_loss: 0.5328 - val_acc: 0.7230\n",
      "Epoch 18/30\n",
      "63/63 [==============================] - 104s 2s/step - loss: 0.5617 - acc: 0.7025 - val_loss: 0.5657 - val_acc: 0.6860\n",
      "Epoch 19/30\n",
      "63/63 [==============================] - 105s 2s/step - loss: 0.5559 - acc: 0.7060 - val_loss: 0.5381 - val_acc: 0.7170\n",
      "Epoch 20/30\n",
      "63/63 [==============================] - 106s 2s/step - loss: 0.5608 - acc: 0.7035 - val_loss: 0.5696 - val_acc: 0.6900\n",
      "Epoch 21/30\n",
      "63/63 [==============================] - 105s 2s/step - loss: 0.5434 - acc: 0.7270 - val_loss: 0.5314 - val_acc: 0.7250\n",
      "Epoch 22/30\n",
      "63/63 [==============================] - 105s 2s/step - loss: 0.5546 - acc: 0.7185 - val_loss: 0.5305 - val_acc: 0.7270\n",
      "Epoch 23/30\n",
      "63/63 [==============================] - 105s 2s/step - loss: 0.5512 - acc: 0.7160 - val_loss: 0.5314 - val_acc: 0.7260\n",
      "Epoch 24/30\n",
      "63/63 [==============================] - 108s 2s/step - loss: 0.5487 - acc: 0.7065 - val_loss: 0.5644 - val_acc: 0.6990\n",
      "Epoch 25/30\n",
      "63/63 [==============================] - 107s 2s/step - loss: 0.5582 - acc: 0.7100 - val_loss: 0.5006 - val_acc: 0.7410\n",
      "Epoch 26/30\n",
      "63/63 [==============================] - 106s 2s/step - loss: 0.5404 - acc: 0.7200 - val_loss: 0.4992 - val_acc: 0.7520\n",
      "Epoch 27/30\n",
      "63/63 [==============================] - 106s 2s/step - loss: 0.5309 - acc: 0.7350 - val_loss: 0.5049 - val_acc: 0.7500\n",
      "Epoch 28/30\n",
      "63/63 [==============================] - 106s 2s/step - loss: 0.5328 - acc: 0.7215 - val_loss: 0.5582 - val_acc: 0.7010\n",
      "Epoch 29/30\n",
      "63/63 [==============================] - 105s 2s/step - loss: 0.5398 - acc: 0.7175 - val_loss: 0.5261 - val_acc: 0.7290\n",
      "Epoch 30/30\n",
      "63/63 [==============================] - 105s 2s/step - loss: 0.5229 - acc: 0.7375 - val_loss: 0.6550 - val_acc: 0.6790\n"
     ]
    }
   ],
   "source": [
    "history2 = model2.fit(\n",
    "    aug_train_generator,\n",
    "    epochs=30,\n",
    "    validation_data=aug_validation_generator\n",
    ")"
   ]
  },
  {
   "cell_type": "markdown",
   "id": "72907660",
   "metadata": {},
   "source": [
    "<h1>USING PRETRAINED MODEL (FEATURE EXTRACTION)</h1>"
   ]
  },
  {
   "cell_type": "code",
   "execution_count": 17,
   "id": "a0ee0f7c",
   "metadata": {},
   "outputs": [],
   "source": [
    "pretrain_data_gen = ImageDataGenerator(rescale=1./255)\n",
    "batch_size = 20\n",
    "\n"
   ]
  },
  {
   "cell_type": "code",
   "execution_count": 19,
   "id": "c4288a19",
   "metadata": {},
   "outputs": [
    {
     "name": "stdout",
     "output_type": "stream",
     "text": [
      "Downloading data from https://storage.googleapis.com/tensorflow/keras-applications/vgg16/vgg16_weights_tf_dim_ordering_tf_kernels_notop.h5\n",
      "58889256/58889256 [==============================] - 31s 1us/step\n"
     ]
    }
   ],
   "source": [
    "from keras.applications import VGG16\n",
    "\n",
    "conv_base = VGG16(\n",
    "    weights='imagenet',\n",
    "    include_top=False,\n",
    "    input_shape=(150, 150, 3)\n",
    ")"
   ]
  },
  {
   "cell_type": "code",
   "execution_count": 20,
   "id": "10d80b0a",
   "metadata": {},
   "outputs": [],
   "source": [
    "def extract_features(directory, sample_count):\n",
    "    \n",
    "    features = np.zeros((sample_count, 4, 4, 512))\n",
    "    labels = np.zeros((sample_count))\n",
    "    \n",
    "    generator = pretrain_data_gen.flow_from_directory(\n",
    "        directory,\n",
    "        target_size=(150, 150),\n",
    "        batch_size=batch_size,\n",
    "        class_mode='binary'\n",
    "    )\n",
    "    \n",
    "    i = 0\n",
    "    \n",
    "    for batch_inputs, batch_labels in generator:\n",
    "        \n",
    "        batch_features = conv_base.predict(batch_inputs)\n",
    "        features[i*batch_size: (i+1)*batch_size] = batch_features\n",
    "        labels[i*batch_size: (i+1)*batch_size] = batch_labels\n",
    "        i+=1\n",
    "        \n",
    "        if i * batch_size >= sample_count:\n",
    "            break\n",
    "    return features, labels"
   ]
  },
  {
   "cell_type": "code",
   "execution_count": 21,
   "id": "4c580d2a",
   "metadata": {},
   "outputs": [
    {
     "name": "stdout",
     "output_type": "stream",
     "text": [
      "Found 2000 images belonging to 2 classes.\n",
      "1/1 [==============================] - 4s 4s/step\n",
      "1/1 [==============================] - 3s 3s/step\n",
      "1/1 [==============================] - 3s 3s/step\n",
      "1/1 [==============================] - 3s 3s/step\n",
      "1/1 [==============================] - 3s 3s/step\n",
      "1/1 [==============================] - 3s 3s/step\n",
      "1/1 [==============================] - 3s 3s/step\n",
      "1/1 [==============================] - 3s 3s/step\n",
      "1/1 [==============================] - 3s 3s/step\n",
      "1/1 [==============================] - 3s 3s/step\n",
      "1/1 [==============================] - 3s 3s/step\n",
      "1/1 [==============================] - 3s 3s/step\n",
      "1/1 [==============================] - 3s 3s/step\n",
      "1/1 [==============================] - 3s 3s/step\n",
      "1/1 [==============================] - 3s 3s/step\n",
      "1/1 [==============================] - 3s 3s/step\n",
      "1/1 [==============================] - 4s 4s/step\n",
      "1/1 [==============================] - 4s 4s/step\n",
      "1/1 [==============================] - 3s 3s/step\n",
      "1/1 [==============================] - 3s 3s/step\n",
      "1/1 [==============================] - 3s 3s/step\n",
      "1/1 [==============================] - 3s 3s/step\n",
      "1/1 [==============================] - 3s 3s/step\n",
      "1/1 [==============================] - 3s 3s/step\n",
      "1/1 [==============================] - 3s 3s/step\n",
      "1/1 [==============================] - 3s 3s/step\n",
      "1/1 [==============================] - 3s 3s/step\n",
      "1/1 [==============================] - 3s 3s/step\n",
      "1/1 [==============================] - 3s 3s/step\n",
      "1/1 [==============================] - 3s 3s/step\n",
      "1/1 [==============================] - 3s 3s/step\n",
      "1/1 [==============================] - 3s 3s/step\n",
      "1/1 [==============================] - 3s 3s/step\n",
      "1/1 [==============================] - 3s 3s/step\n",
      "1/1 [==============================] - 3s 3s/step\n",
      "1/1 [==============================] - 3s 3s/step\n",
      "1/1 [==============================] - 3s 3s/step\n",
      "1/1 [==============================] - 3s 3s/step\n",
      "1/1 [==============================] - 3s 3s/step\n",
      "1/1 [==============================] - 3s 3s/step\n",
      "1/1 [==============================] - 3s 3s/step\n",
      "1/1 [==============================] - 3s 3s/step\n",
      "1/1 [==============================] - 3s 3s/step\n",
      "1/1 [==============================] - 3s 3s/step\n",
      "1/1 [==============================] - 3s 3s/step\n",
      "1/1 [==============================] - 3s 3s/step\n",
      "1/1 [==============================] - 3s 3s/step\n",
      "1/1 [==============================] - 3s 3s/step\n",
      "1/1 [==============================] - 3s 3s/step\n",
      "1/1 [==============================] - 3s 3s/step\n",
      "1/1 [==============================] - 3s 3s/step\n",
      "1/1 [==============================] - 3s 3s/step\n",
      "1/1 [==============================] - 3s 3s/step\n",
      "1/1 [==============================] - 3s 3s/step\n",
      "1/1 [==============================] - 4s 4s/step\n",
      "1/1 [==============================] - 3s 3s/step\n",
      "1/1 [==============================] - 4s 4s/step\n",
      "1/1 [==============================] - 3s 3s/step\n",
      "1/1 [==============================] - 3s 3s/step\n",
      "1/1 [==============================] - 3s 3s/step\n",
      "1/1 [==============================] - 3s 3s/step\n",
      "1/1 [==============================] - 3s 3s/step\n",
      "1/1 [==============================] - 3s 3s/step\n",
      "1/1 [==============================] - 3s 3s/step\n",
      "1/1 [==============================] - 3s 3s/step\n",
      "1/1 [==============================] - 3s 3s/step\n",
      "1/1 [==============================] - 3s 3s/step\n",
      "1/1 [==============================] - 3s 3s/step\n",
      "1/1 [==============================] - 3s 3s/step\n",
      "1/1 [==============================] - 3s 3s/step\n",
      "1/1 [==============================] - 3s 3s/step\n",
      "1/1 [==============================] - 3s 3s/step\n",
      "1/1 [==============================] - 3s 3s/step\n",
      "1/1 [==============================] - 3s 3s/step\n",
      "1/1 [==============================] - 3s 3s/step\n",
      "1/1 [==============================] - 3s 3s/step\n",
      "1/1 [==============================] - 3s 3s/step\n",
      "1/1 [==============================] - 3s 3s/step\n",
      "1/1 [==============================] - 3s 3s/step\n",
      "1/1 [==============================] - 3s 3s/step\n",
      "1/1 [==============================] - 3s 3s/step\n",
      "1/1 [==============================] - 3s 3s/step\n",
      "1/1 [==============================] - 3s 3s/step\n",
      "1/1 [==============================] - 3s 3s/step\n",
      "1/1 [==============================] - 3s 3s/step\n",
      "1/1 [==============================] - 3s 3s/step\n",
      "1/1 [==============================] - 3s 3s/step\n",
      "1/1 [==============================] - 3s 3s/step\n",
      "1/1 [==============================] - 3s 3s/step\n",
      "1/1 [==============================] - 3s 3s/step\n",
      "1/1 [==============================] - 3s 3s/step\n",
      "1/1 [==============================] - 3s 3s/step\n",
      "1/1 [==============================] - 3s 3s/step\n",
      "1/1 [==============================] - 3s 3s/step\n",
      "1/1 [==============================] - 3s 3s/step\n",
      "1/1 [==============================] - 3s 3s/step\n",
      "1/1 [==============================] - 3s 3s/step\n",
      "1/1 [==============================] - 3s 3s/step\n",
      "1/1 [==============================] - 3s 3s/step\n",
      "1/1 [==============================] - 3s 3s/step\n",
      "Found 1000 images belonging to 2 classes.\n",
      "1/1 [==============================] - 3s 3s/step\n",
      "1/1 [==============================] - 3s 3s/step\n",
      "1/1 [==============================] - 3s 3s/step\n",
      "1/1 [==============================] - 3s 3s/step\n",
      "1/1 [==============================] - 3s 3s/step\n",
      "1/1 [==============================] - 3s 3s/step\n",
      "1/1 [==============================] - 3s 3s/step\n",
      "1/1 [==============================] - 3s 3s/step\n",
      "1/1 [==============================] - 3s 3s/step\n",
      "1/1 [==============================] - 3s 3s/step\n",
      "1/1 [==============================] - 3s 3s/step\n",
      "1/1 [==============================] - 3s 3s/step\n",
      "1/1 [==============================] - 3s 3s/step\n",
      "1/1 [==============================] - 3s 3s/step\n",
      "1/1 [==============================] - 3s 3s/step\n",
      "1/1 [==============================] - 3s 3s/step\n",
      "1/1 [==============================] - 3s 3s/step\n",
      "1/1 [==============================] - 3s 3s/step\n",
      "1/1 [==============================] - 3s 3s/step\n",
      "1/1 [==============================] - 3s 3s/step\n",
      "1/1 [==============================] - 3s 3s/step\n",
      "1/1 [==============================] - 3s 3s/step\n",
      "1/1 [==============================] - 3s 3s/step\n",
      "1/1 [==============================] - 3s 3s/step\n",
      "1/1 [==============================] - 3s 3s/step\n",
      "1/1 [==============================] - 4s 4s/step\n",
      "1/1 [==============================] - 4s 4s/step\n",
      "1/1 [==============================] - 3s 3s/step\n",
      "1/1 [==============================] - 4s 4s/step\n",
      "1/1 [==============================] - 4s 4s/step\n",
      "1/1 [==============================] - 3s 3s/step\n",
      "1/1 [==============================] - 3s 3s/step\n",
      "1/1 [==============================] - 4s 4s/step\n",
      "1/1 [==============================] - 4s 4s/step\n",
      "1/1 [==============================] - 4s 4s/step\n",
      "1/1 [==============================] - 4s 4s/step\n",
      "1/1 [==============================] - 4s 4s/step\n",
      "1/1 [==============================] - 4s 4s/step\n",
      "1/1 [==============================] - 4s 4s/step\n",
      "1/1 [==============================] - 4s 4s/step\n",
      "1/1 [==============================] - 4s 4s/step\n",
      "1/1 [==============================] - 4s 4s/step\n",
      "1/1 [==============================] - 5s 5s/step\n",
      "1/1 [==============================] - 4s 4s/step\n",
      "1/1 [==============================] - 4s 4s/step\n",
      "1/1 [==============================] - 4s 4s/step\n",
      "1/1 [==============================] - 4s 4s/step\n",
      "1/1 [==============================] - 4s 4s/step\n",
      "1/1 [==============================] - 3s 3s/step\n",
      "1/1 [==============================] - 3s 3s/step\n",
      "Found 1000 images belonging to 2 classes.\n",
      "1/1 [==============================] - 3s 3s/step\n",
      "1/1 [==============================] - 3s 3s/step\n",
      "1/1 [==============================] - 3s 3s/step\n",
      "1/1 [==============================] - 3s 3s/step\n",
      "1/1 [==============================] - 4s 4s/step\n",
      "1/1 [==============================] - 3s 3s/step\n",
      "1/1 [==============================] - 3s 3s/step\n",
      "1/1 [==============================] - 3s 3s/step\n",
      "1/1 [==============================] - 3s 3s/step\n",
      "1/1 [==============================] - 3s 3s/step\n",
      "1/1 [==============================] - 3s 3s/step\n"
     ]
    },
    {
     "name": "stdout",
     "output_type": "stream",
     "text": [
      "1/1 [==============================] - 3s 3s/step\n",
      "1/1 [==============================] - 3s 3s/step\n",
      "1/1 [==============================] - 4s 4s/step\n",
      "1/1 [==============================] - 3s 3s/step\n",
      "1/1 [==============================] - 3s 3s/step\n",
      "1/1 [==============================] - 3s 3s/step\n",
      "1/1 [==============================] - 3s 3s/step\n",
      "1/1 [==============================] - 3s 3s/step\n",
      "1/1 [==============================] - 3s 3s/step\n",
      "1/1 [==============================] - 3s 3s/step\n",
      "1/1 [==============================] - 3s 3s/step\n",
      "1/1 [==============================] - 3s 3s/step\n",
      "1/1 [==============================] - 3s 3s/step\n",
      "1/1 [==============================] - 3s 3s/step\n",
      "1/1 [==============================] - 3s 3s/step\n",
      "1/1 [==============================] - 3s 3s/step\n",
      "1/1 [==============================] - 3s 3s/step\n",
      "1/1 [==============================] - 3s 3s/step\n",
      "1/1 [==============================] - 3s 3s/step\n",
      "1/1 [==============================] - 3s 3s/step\n",
      "1/1 [==============================] - 3s 3s/step\n",
      "1/1 [==============================] - 3s 3s/step\n",
      "1/1 [==============================] - 3s 3s/step\n",
      "1/1 [==============================] - 3s 3s/step\n",
      "1/1 [==============================] - 3s 3s/step\n",
      "1/1 [==============================] - 3s 3s/step\n",
      "1/1 [==============================] - 3s 3s/step\n",
      "1/1 [==============================] - 4s 4s/step\n",
      "1/1 [==============================] - 3s 3s/step\n",
      "1/1 [==============================] - 4s 4s/step\n",
      "1/1 [==============================] - 4s 4s/step\n",
      "1/1 [==============================] - 4s 4s/step\n",
      "1/1 [==============================] - 3s 3s/step\n",
      "1/1 [==============================] - 3s 3s/step\n",
      "1/1 [==============================] - 3s 3s/step\n",
      "1/1 [==============================] - 3s 3s/step\n",
      "1/1 [==============================] - 3s 3s/step\n",
      "1/1 [==============================] - 3s 3s/step\n",
      "1/1 [==============================] - 3s 3s/step\n"
     ]
    }
   ],
   "source": [
    "train_features, train_labels = extract_features(train_dir, 2000)\n",
    "validation_features, validation_labels = extract_features(validation_dir, 1000)\n",
    "test_features, test_labels = extract_features(test_dir, 1000)"
   ]
  },
  {
   "cell_type": "code",
   "execution_count": 22,
   "id": "806f8e9c",
   "metadata": {},
   "outputs": [],
   "source": [
    "model3 = models.Sequential()\n",
    "model3.add(layers.Flatten(input_shape=(4,4,512)))\n",
    "model3.add(layers.Dense(256, activation=\"relu\"))\n",
    "model3.add(layers.Dropout(0.5))\n",
    "model3.add(layers.Dense(1, activation=\"sigmoid\"))"
   ]
  },
  {
   "cell_type": "code",
   "execution_count": 23,
   "id": "315e540c",
   "metadata": {},
   "outputs": [
    {
     "name": "stdout",
     "output_type": "stream",
     "text": [
      "Model: \"sequential_1\"\n",
      "_________________________________________________________________\n",
      " Layer (type)                Output Shape              Param #   \n",
      "=================================================================\n",
      " flatten_1 (Flatten)         (None, 8192)              0         \n",
      "                                                                 \n",
      " dense_2 (Dense)             (None, 256)               2097408   \n",
      "                                                                 \n",
      " dropout_1 (Dropout)         (None, 256)               0         \n",
      "                                                                 \n",
      " dense_3 (Dense)             (None, 1)                 257       \n",
      "                                                                 \n",
      "=================================================================\n",
      "Total params: 2,097,665\n",
      "Trainable params: 2,097,665\n",
      "Non-trainable params: 0\n",
      "_________________________________________________________________\n"
     ]
    }
   ],
   "source": [
    "model3.summary()"
   ]
  },
  {
   "cell_type": "code",
   "execution_count": 31,
   "id": "551354d0",
   "metadata": {},
   "outputs": [],
   "source": [
    "model3.compile(\n",
    "    optimizer=optimizers.RMSprop(learning_rate=2e-5),\n",
    "    loss='binary_crossentropy',\n",
    "    metrics=['acc']\n",
    ")"
   ]
  },
  {
   "cell_type": "code",
   "execution_count": 28,
   "id": "8c51d683",
   "metadata": {},
   "outputs": [
    {
     "data": {
      "text/plain": [
       "(2000, 4, 4, 512)"
      ]
     },
     "execution_count": 28,
     "metadata": {},
     "output_type": "execute_result"
    }
   ],
   "source": [
    "train_features.shape"
   ]
  },
  {
   "cell_type": "code",
   "execution_count": 32,
   "id": "82049112",
   "metadata": {},
   "outputs": [
    {
     "name": "stdout",
     "output_type": "stream",
     "text": [
      "Epoch 1/30\n",
      "100/100 [==============================] - 6s 43ms/step - loss: 0.6133 - acc: 0.6540 - val_loss: 0.4545 - val_acc: 0.8190\n",
      "Epoch 2/30\n",
      "100/100 [==============================] - 4s 40ms/step - loss: 0.4305 - acc: 0.8025 - val_loss: 0.3800 - val_acc: 0.8430\n",
      "Epoch 3/30\n",
      "100/100 [==============================] - 4s 39ms/step - loss: 0.3687 - acc: 0.8440 - val_loss: 0.3485 - val_acc: 0.8480\n",
      "Epoch 4/30\n",
      "100/100 [==============================] - 4s 40ms/step - loss: 0.3209 - acc: 0.8680 - val_loss: 0.3108 - val_acc: 0.8800\n",
      "Epoch 5/30\n",
      "100/100 [==============================] - 4s 40ms/step - loss: 0.2951 - acc: 0.8725 - val_loss: 0.2995 - val_acc: 0.8850\n",
      "Epoch 6/30\n",
      "100/100 [==============================] - 4s 40ms/step - loss: 0.2678 - acc: 0.9010 - val_loss: 0.2890 - val_acc: 0.8840\n",
      "Epoch 7/30\n",
      "100/100 [==============================] - 4s 39ms/step - loss: 0.2434 - acc: 0.9065 - val_loss: 0.2725 - val_acc: 0.8910\n",
      "Epoch 8/30\n",
      "100/100 [==============================] - 4s 40ms/step - loss: 0.2394 - acc: 0.9080 - val_loss: 0.2656 - val_acc: 0.8920\n",
      "Epoch 9/30\n",
      "100/100 [==============================] - 4s 39ms/step - loss: 0.2267 - acc: 0.9155 - val_loss: 0.2624 - val_acc: 0.8900\n",
      "Epoch 10/30\n",
      "100/100 [==============================] - 4s 39ms/step - loss: 0.2122 - acc: 0.9230 - val_loss: 0.2590 - val_acc: 0.8960\n",
      "Epoch 11/30\n",
      "100/100 [==============================] - 4s 40ms/step - loss: 0.2066 - acc: 0.9250 - val_loss: 0.2511 - val_acc: 0.8990\n",
      "Epoch 12/30\n",
      "100/100 [==============================] - 4s 39ms/step - loss: 0.1897 - acc: 0.9285 - val_loss: 0.2592 - val_acc: 0.8930\n",
      "Epoch 13/30\n",
      "100/100 [==============================] - 4s 39ms/step - loss: 0.1819 - acc: 0.9335 - val_loss: 0.2505 - val_acc: 0.8990\n",
      "Epoch 14/30\n",
      "100/100 [==============================] - 4s 39ms/step - loss: 0.1687 - acc: 0.9355 - val_loss: 0.2437 - val_acc: 0.9030\n",
      "Epoch 15/30\n",
      "100/100 [==============================] - 4s 39ms/step - loss: 0.1685 - acc: 0.9390 - val_loss: 0.2426 - val_acc: 0.9030\n",
      "Epoch 16/30\n",
      "100/100 [==============================] - 4s 40ms/step - loss: 0.1549 - acc: 0.9420 - val_loss: 0.2400 - val_acc: 0.9060\n",
      "Epoch 17/30\n",
      "100/100 [==============================] - 4s 39ms/step - loss: 0.1495 - acc: 0.9505 - val_loss: 0.2394 - val_acc: 0.9050\n",
      "Epoch 18/30\n",
      "100/100 [==============================] - 4s 39ms/step - loss: 0.1502 - acc: 0.9460 - val_loss: 0.2407 - val_acc: 0.9010\n",
      "Epoch 19/30\n",
      "100/100 [==============================] - 4s 39ms/step - loss: 0.1504 - acc: 0.9470 - val_loss: 0.2443 - val_acc: 0.9020\n",
      "Epoch 20/30\n",
      "100/100 [==============================] - 4s 40ms/step - loss: 0.1353 - acc: 0.9550 - val_loss: 0.2417 - val_acc: 0.9020\n",
      "Epoch 21/30\n",
      "100/100 [==============================] - 4s 41ms/step - loss: 0.1256 - acc: 0.9530 - val_loss: 0.2382 - val_acc: 0.9030\n",
      "Epoch 22/30\n",
      "100/100 [==============================] - 4s 39ms/step - loss: 0.1245 - acc: 0.9575 - val_loss: 0.2396 - val_acc: 0.9060\n",
      "Epoch 23/30\n",
      "100/100 [==============================] - 4s 41ms/step - loss: 0.1224 - acc: 0.9615 - val_loss: 0.2410 - val_acc: 0.9020\n",
      "Epoch 24/30\n",
      "100/100 [==============================] - 4s 40ms/step - loss: 0.1128 - acc: 0.9635 - val_loss: 0.2393 - val_acc: 0.9020\n",
      "Epoch 25/30\n",
      "100/100 [==============================] - 4s 39ms/step - loss: 0.1130 - acc: 0.9615 - val_loss: 0.2461 - val_acc: 0.9050\n",
      "Epoch 26/30\n",
      "100/100 [==============================] - 4s 39ms/step - loss: 0.1103 - acc: 0.9655 - val_loss: 0.2382 - val_acc: 0.9000\n",
      "Epoch 27/30\n",
      "100/100 [==============================] - 4s 40ms/step - loss: 0.1039 - acc: 0.9675 - val_loss: 0.2388 - val_acc: 0.9010\n",
      "Epoch 28/30\n",
      "100/100 [==============================] - 4s 39ms/step - loss: 0.1003 - acc: 0.9630 - val_loss: 0.2377 - val_acc: 0.9030\n",
      "Epoch 29/30\n",
      "100/100 [==============================] - 4s 39ms/step - loss: 0.0952 - acc: 0.9710 - val_loss: 0.2404 - val_acc: 0.8990\n",
      "Epoch 30/30\n",
      "100/100 [==============================] - 4s 39ms/step - loss: 0.0902 - acc: 0.9725 - val_loss: 0.2394 - val_acc: 0.9020\n"
     ]
    }
   ],
   "source": [
    "history3 = model3.fit(\n",
    "    train_features,\n",
    "    train_labels,\n",
    "    epochs=30,\n",
    "    batch_size=20,\n",
    "    validation_data=(validation_features, validation_labels)\n",
    ")"
   ]
  },
  {
   "cell_type": "code",
   "execution_count": null,
   "id": "9741e3f2",
   "metadata": {},
   "outputs": [],
   "source": []
  }
 ],
 "metadata": {
  "kernelspec": {
   "display_name": "Python 3 (ipykernel)",
   "language": "python",
   "name": "python3"
  },
  "language_info": {
   "codemirror_mode": {
    "name": "ipython",
    "version": 3
   },
   "file_extension": ".py",
   "mimetype": "text/x-python",
   "name": "python",
   "nbconvert_exporter": "python",
   "pygments_lexer": "ipython3",
   "version": "3.10.12"
  }
 },
 "nbformat": 4,
 "nbformat_minor": 5
}
