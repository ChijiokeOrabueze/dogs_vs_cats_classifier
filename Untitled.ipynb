{
 "cells": [
  {
   "cell_type": "code",
   "execution_count": 51,
   "id": "e02ded2d",
   "metadata": {},
   "outputs": [],
   "source": [
    "import os, shutil\n",
    "from keras import layers, models, optimizers"
   ]
  },
  {
   "cell_type": "code",
   "execution_count": 40,
   "id": "c42f3f1f",
   "metadata": {},
   "outputs": [],
   "source": [
    "orginal_dataset_dir = \"/home/cj/DL/data/dogs-vs-cats\"\n",
    "orginal_train_dir = os.path.join(orginal_dataset_dir, \"train\")\n",
    "\n",
    "\n",
    "os.chmod(orginal_dataset_dir, 0o777)\n",
    "\n",
    "base_dir = os.path.join(orginal_dataset_dir, 'sub_set')\n",
    "\n",
    "create_dir_if_not_exist(base_dir)\n",
    "\n",
    "train_dir = os.path.join(base_dir, \"train\")\n",
    "\n",
    "create_dir_if_not_exist(train_dir)\n",
    "\n",
    "validation_dir = os.path.join(base_dir, \"validation\")\n",
    "\n",
    "create_dir_if_not_exist(validation_dir)\n",
    "\n",
    "test_dir = os.path.join(base_dir, \"test\")\n",
    "\n",
    "create_dir_if_not_exist(test_dir)\n",
    "\n",
    "\n",
    "train_cats_dir = os.path.join(train_dir, \"cats\")\n",
    "\n",
    "create_dir_if_not_exist(train_cats_dir)\n",
    "\n",
    "train_dogs_dir = os.path.join(train_dir, \"dogs\")\n",
    "\n",
    "create_dir_if_not_exist(train_dogs_dir)\n",
    "\n",
    "\n",
    "validation_cats_dir = os.path.join(validation_dir, \"cats\")\n",
    "\n",
    "create_dir_if_not_exist(validation_cats_dir)\n",
    "\n",
    "validation_dogs_dir = os.path.join(validation_dir, \"dogs\")\n",
    "\n",
    "create_dir_if_not_exist(validation_dogs_dir)\n",
    "\n",
    "\n",
    "test_cats_dir = os.path.join(test_dir, \"cats\")\n",
    "\n",
    "create_dir_if_not_exist(test_cats_dir)\n",
    "\n",
    "test_dogs_dir = os.path.join(test_dir, \"dogs\")\n",
    "\n",
    "create_dir_if_not_exist(test_dogs_dir)\n",
    "\n",
    "\n"
   ]
  },
  {
   "cell_type": "code",
   "execution_count": 19,
   "id": "d20edb8f",
   "metadata": {},
   "outputs": [],
   "source": [
    "def create_dir_if_not_exist (url):\n",
    "    \n",
    "    if not (os.path.exists(url)):\n",
    "        os.mkdir(url)"
   ]
  },
  {
   "cell_type": "code",
   "execution_count": 41,
   "id": "e3a9bd3a",
   "metadata": {},
   "outputs": [],
   "source": [
    "\n",
    "\n",
    "def copy_data_to_correct_dir():\n",
    "    \n",
    "    start_index = 0\n",
    "    \n",
    "    for i in range(0,3):\n",
    "        \n",
    "        \n",
    "        \n",
    "        base_url = [train_dogs_dir, train_cats_dir] \n",
    "        \n",
    "        if i == 1:\n",
    "            base_url = [validation_dogs_dir, validation_cats_dir]\n",
    "        elif i == 2:\n",
    "            base_url = [test_dogs_dir, test_cats_dir]\n",
    "        \n",
    "        end_index = start_index + (500 if i > 0 else 1000)\n",
    "        \n",
    "        for index in range(start_index, end_index):\n",
    "            \n",
    "            file_name = f'dog.{index}.jpg'\n",
    "            src_url = os.path.join(orginal_train_dir, file_name)\n",
    "            destination_url = os.path.join(base_url[0], file_name)\n",
    "            \n",
    "            if not os.path.exists(destination_url):\n",
    "                shutil.copyfile(src_url, destination_url)\n",
    "            \n",
    "            \n",
    "            file_name = f'cat.{index}.jpg'\n",
    "            src_url = os.path.join(orginal_train_dir, file_name)\n",
    "            destination_url = os.path.join(base_url[1], file_name)\n",
    "        \n",
    "            if not os.path.exists(destination_url):\n",
    "                shutil.copyfile(src_url, destination_url)\n",
    "        \n",
    "       \n",
    "       \n",
    "        start_index = end_index"
   ]
  },
  {
   "cell_type": "code",
   "execution_count": 43,
   "id": "f858442b",
   "metadata": {},
   "outputs": [],
   "source": [
    "copy_data_to_correct_dir()"
   ]
  },
  {
   "cell_type": "code",
   "execution_count": 46,
   "id": "b92fb4bf",
   "metadata": {},
   "outputs": [
    {
     "name": "stdout",
     "output_type": "stream",
     "text": [
      "total training cat images: 1000\n",
      "total training dog images: 1000\n",
      "total validation cat images: 500\n",
      "total validation dog images: 500\n",
      "total test cat images: 500\n",
      "total test dog images: 500\n"
     ]
    }
   ],
   "source": [
    "print('total training cat images:', len(os.listdir(train_cats_dir)))\n",
    "\n",
    "print('total training dog images:', len(os.listdir(train_dogs_dir)))\n",
    "\n",
    "print('total validation cat images:', len(os.listdir(validation_cats_dir)))\n",
    "\n",
    "print('total validation dog images:', len(os.listdir(validation_dogs_dir)))\n",
    "\n",
    "print('total test cat images:', len(os.listdir(test_cats_dir)))\n",
    "\n",
    "print('total test dog images:', len(os.listdir(test_dogs_dir)))"
   ]
  },
  {
   "cell_type": "code",
   "execution_count": 49,
   "id": "38134f81",
   "metadata": {},
   "outputs": [],
   "source": [
    "model1 = models.Sequential();\n",
    "model1.add(layers.Conv2D(32, (3, 3), activation=\"relu\", input_shape=(150, 150, 3)))\n",
    "model1.add(layers.MaxPooling2D((2,2)))\n",
    "model1.add(layers.Conv2D(64, (3, 3), activation='relu'))\n",
    "model1.add(layers.MaxPooling2D((2,2)))\n",
    "model1.add(layers.Conv2D(128, (3, 3), activation='relu'))\n",
    "model1.add(layers.MaxPooling2D((2,2)))\n",
    "model1.add(layers.Conv2D(128, (3, 3), activation='relu'))\n",
    "model1.add(layers.MaxPooling2D((2,2)))\n",
    "model1.add(layers.Flatten())\n",
    "model1.add(layers.Dense(512, activation='relu'))\n",
    "model1.add(layers.Dense(1, activation='sigmoid'))"
   ]
  },
  {
   "cell_type": "code",
   "execution_count": 50,
   "id": "f65161d5",
   "metadata": {},
   "outputs": [
    {
     "name": "stdout",
     "output_type": "stream",
     "text": [
      "Model: \"sequential_1\"\n",
      "_________________________________________________________________\n",
      " Layer (type)                Output Shape              Param #   \n",
      "=================================================================\n",
      " conv2d_1 (Conv2D)           (None, 148, 148, 32)      896       \n",
      "                                                                 \n",
      " max_pooling2d_1 (MaxPooling  (None, 74, 74, 32)       0         \n",
      " 2D)                                                             \n",
      "                                                                 \n",
      " conv2d_2 (Conv2D)           (None, 72, 72, 64)        18496     \n",
      "                                                                 \n",
      " max_pooling2d_2 (MaxPooling  (None, 36, 36, 64)       0         \n",
      " 2D)                                                             \n",
      "                                                                 \n",
      " conv2d_3 (Conv2D)           (None, 34, 34, 128)       73856     \n",
      "                                                                 \n",
      " max_pooling2d_3 (MaxPooling  (None, 17, 17, 128)      0         \n",
      " 2D)                                                             \n",
      "                                                                 \n",
      " conv2d_4 (Conv2D)           (None, 15, 15, 128)       147584    \n",
      "                                                                 \n",
      " max_pooling2d_4 (MaxPooling  (None, 7, 7, 128)        0         \n",
      " 2D)                                                             \n",
      "                                                                 \n",
      " flatten (Flatten)           (None, 6272)              0         \n",
      "                                                                 \n",
      " dense (Dense)               (None, 512)               3211776   \n",
      "                                                                 \n",
      " dense_1 (Dense)             (None, 1)                 513       \n",
      "                                                                 \n",
      "=================================================================\n",
      "Total params: 3,453,121\n",
      "Trainable params: 3,453,121\n",
      "Non-trainable params: 0\n",
      "_________________________________________________________________\n"
     ]
    }
   ],
   "source": [
    "model1.summary()"
   ]
  },
  {
   "cell_type": "code",
   "execution_count": 52,
   "id": "4d60ada1",
   "metadata": {},
   "outputs": [
    {
     "name": "stderr",
     "output_type": "stream",
     "text": [
      "/home/linuxbrew/.linuxbrew/opt/python@3.10/lib/python3.10/site-packages/keras/optimizers/legacy/rmsprop.py:143: UserWarning: The `lr` argument is deprecated, use `learning_rate` instead.\n",
      "  super().__init__(name, **kwargs)\n"
     ]
    }
   ],
   "source": [
    "model1.compile(loss='binary_crossentropy',\n",
    "              optimizer=optimizers.RMSprop(lr=1e-4),\n",
    "              metrics=[\"accuracy\"])"
   ]
  },
  {
   "cell_type": "code",
   "execution_count": 53,
   "id": "222cb511",
   "metadata": {},
   "outputs": [],
   "source": [
    "from keras.preprocessing.image import ImageDataGenerator\n"
   ]
  },
  {
   "cell_type": "code",
   "execution_count": 55,
   "id": "232069d5",
   "metadata": {},
   "outputs": [
    {
     "name": "stdout",
     "output_type": "stream",
     "text": [
      "Found 2000 images belonging to 2 classes.\n",
      "Found 1000 images belonging to 2 classes.\n"
     ]
    }
   ],
   "source": [
    "train_datagen = ImageDataGenerator(rescale=1./255)\n",
    "test_datagen = ImageDataGenerator(rescale=1./255)\n",
    "\n",
    "train_generator = train_datagen.flow_from_directory(\n",
    "    train_dir,\n",
    "    target_size=(150, 150),\n",
    "    batch_size=20,\n",
    "    class_mode='binary'\n",
    ")\n",
    "\n",
    "validation_generator = test_datagen.flow_from_directory(\n",
    "    validation_dir,\n",
    "    target_size=(150, 150),\n",
    "    batch_size=20,\n",
    "    class_mode='binary'\n",
    ")"
   ]
  },
  {
   "cell_type": "code",
   "execution_count": null,
   "id": "687f2a38",
   "metadata": {},
   "outputs": [
    {
     "name": "stderr",
     "output_type": "stream",
     "text": [
      "/tmp/ipykernel_113722/1820336663.py:1: UserWarning: `Model.fit_generator` is deprecated and will be removed in a future version. Please use `Model.fit`, which supports generators.\n",
      "  history = model1.fit_generator(\n"
     ]
    },
    {
     "name": "stdout",
     "output_type": "stream",
     "text": [
      "Epoch 1/30\n"
     ]
    },
    {
     "name": "stderr",
     "output_type": "stream",
     "text": [
      "2023-09-30 14:31:33.394209: I tensorflow/core/common_runtime/executor.cc:1197] [/device:CPU:0] (DEBUG INFO) Executor start aborting (this does not indicate an error and you can ignore this message): INVALID_ARGUMENT: You must feed a value for placeholder tensor 'Placeholder/_0' with dtype int32\n",
      "\t [[{{node Placeholder/_0}}]]\n",
      "2023-09-30 14:31:36.806677: W tensorflow/tsl/framework/cpu_allocator_impl.cc:83] Allocation of 56074240 exceeds 10% of free system memory.\n",
      "2023-09-30 14:31:37.856823: W tensorflow/tsl/framework/cpu_allocator_impl.cc:83] Allocation of 56074240 exceeds 10% of free system memory.\n"
     ]
    },
    {
     "name": "stdout",
     "output_type": "stream",
     "text": [
      "\r",
      "  1/100 [..............................] - ETA: 7:36 - loss: 0.6908 - accuracy: 0.6000"
     ]
    },
    {
     "name": "stderr",
     "output_type": "stream",
     "text": [
      "2023-09-30 14:31:38.105948: W tensorflow/tsl/framework/cpu_allocator_impl.cc:83] Allocation of 56074240 exceeds 10% of free system memory.\n",
      "2023-09-30 14:31:39.033978: W tensorflow/tsl/framework/cpu_allocator_impl.cc:83] Allocation of 56074240 exceeds 10% of free system memory.\n"
     ]
    },
    {
     "name": "stdout",
     "output_type": "stream",
     "text": [
      "\b\b\b\b\b\b\b\b\b\b\b\b\b\b\b\b\b\b\b\b\b\b\b\b\b\b\b\b\b\b\b\b\b\b\b\b\b\b\b\b\b\b\b\b\b\b\b\b\b\b\b\b\b\b\b\b\b\b\b\b\b\b\b\b\b\b\b\b\b\b\b\b\b\b\b\b\b\b\b\b\b\b\b\b\b\b\r",
      "  2/100 [..............................] - ETA: 1:56 - loss: 0.8055 - accuracy: 0.5250"
     ]
    },
    {
     "name": "stderr",
     "output_type": "stream",
     "text": [
      "2023-09-30 14:31:39.298354: W tensorflow/tsl/framework/cpu_allocator_impl.cc:83] Allocation of 56074240 exceeds 10% of free system memory.\n"
     ]
    },
    {
     "name": "stdout",
     "output_type": "stream",
     "text": [
      "100/100 [==============================] - ETA: 0s - loss: 0.6940 - accuracy: 0.5270"
     ]
    },
    {
     "name": "stderr",
     "output_type": "stream",
     "text": [
      "2023-09-30 14:33:15.445432: I tensorflow/core/common_runtime/executor.cc:1197] [/device:CPU:0] (DEBUG INFO) Executor start aborting (this does not indicate an error and you can ignore this message): INVALID_ARGUMENT: You must feed a value for placeholder tensor 'Placeholder/_0' with dtype int32\n",
      "\t [[{{node Placeholder/_0}}]]\n"
     ]
    },
    {
     "name": "stdout",
     "output_type": "stream",
     "text": [
      "100/100 [==============================] - 114s 1s/step - loss: 0.6940 - accuracy: 0.5270 - val_loss: 0.6893 - val_accuracy: 0.5220\n",
      "Epoch 2/30\n",
      "100/100 [==============================] - 108s 1s/step - loss: 0.6603 - accuracy: 0.6165 - val_loss: 0.6486 - val_accuracy: 0.6100\n",
      "Epoch 3/30\n",
      "100/100 [==============================] - 110s 1s/step - loss: 0.6262 - accuracy: 0.6415 - val_loss: 0.6152 - val_accuracy: 0.6560\n",
      "Epoch 4/30\n",
      "100/100 [==============================] - 108s 1s/step - loss: 0.5847 - accuracy: 0.6855 - val_loss: 0.6049 - val_accuracy: 0.6640\n",
      "Epoch 5/30\n",
      "100/100 [==============================] - 107s 1s/step - loss: 0.5410 - accuracy: 0.7235 - val_loss: 0.6064 - val_accuracy: 0.6640\n",
      "Epoch 6/30\n",
      "100/100 [==============================] - 108s 1s/step - loss: 0.5185 - accuracy: 0.7310 - val_loss: 0.5594 - val_accuracy: 0.7110\n",
      "Epoch 7/30\n",
      "100/100 [==============================] - 108s 1s/step - loss: 0.4816 - accuracy: 0.7725 - val_loss: 0.5646 - val_accuracy: 0.6960\n",
      "Epoch 8/30\n",
      "100/100 [==============================] - 108s 1s/step - loss: 0.4562 - accuracy: 0.7815 - val_loss: 0.5368 - val_accuracy: 0.7340\n",
      "Epoch 9/30\n",
      "100/100 [==============================] - 108s 1s/step - loss: 0.4275 - accuracy: 0.8020 - val_loss: 0.5770 - val_accuracy: 0.7130\n",
      "Epoch 10/30\n",
      "100/100 [==============================] - 108s 1s/step - loss: 0.3959 - accuracy: 0.8190 - val_loss: 0.5478 - val_accuracy: 0.7320\n",
      "Epoch 11/30\n",
      "100/100 [==============================] - 115s 1s/step - loss: 0.3705 - accuracy: 0.8390 - val_loss: 0.5731 - val_accuracy: 0.7300\n",
      "Epoch 12/30\n",
      "100/100 [==============================] - 126s 1s/step - loss: 0.3492 - accuracy: 0.8465 - val_loss: 0.5561 - val_accuracy: 0.7310\n",
      "Epoch 13/30\n",
      "100/100 [==============================] - 106s 1s/step - loss: 0.3303 - accuracy: 0.8605 - val_loss: 0.5460 - val_accuracy: 0.7340\n",
      "Epoch 14/30\n",
      "100/100 [==============================] - 105s 1s/step - loss: 0.2982 - accuracy: 0.8755 - val_loss: 0.6823 - val_accuracy: 0.7110\n",
      "Epoch 15/30\n",
      "100/100 [==============================] - 105s 1s/step - loss: 0.2761 - accuracy: 0.8815 - val_loss: 0.6232 - val_accuracy: 0.7110\n",
      "Epoch 16/30\n",
      "100/100 [==============================] - 106s 1s/step - loss: 0.2510 - accuracy: 0.9065 - val_loss: 0.5589 - val_accuracy: 0.7530\n",
      "Epoch 17/30\n",
      "100/100 [==============================] - 105s 1s/step - loss: 0.2260 - accuracy: 0.9165 - val_loss: 0.6253 - val_accuracy: 0.7350\n",
      "Epoch 18/30\n",
      "100/100 [==============================] - 106s 1s/step - loss: 0.2212 - accuracy: 0.9160 - val_loss: 0.6324 - val_accuracy: 0.7360\n",
      "Epoch 19/30\n",
      "100/100 [==============================] - 106s 1s/step - loss: 0.1820 - accuracy: 0.9300 - val_loss: 0.6691 - val_accuracy: 0.7350\n",
      "Epoch 20/30\n",
      "100/100 [==============================] - 106s 1s/step - loss: 0.1676 - accuracy: 0.9480 - val_loss: 0.6439 - val_accuracy: 0.7490\n",
      "Epoch 21/30\n",
      "100/100 [==============================] - 106s 1s/step - loss: 0.1425 - accuracy: 0.9500 - val_loss: 0.7429 - val_accuracy: 0.7290\n",
      "Epoch 22/30\n",
      "100/100 [==============================] - 106s 1s/step - loss: 0.1291 - accuracy: 0.9600 - val_loss: 0.7084 - val_accuracy: 0.7380\n",
      "Epoch 23/30\n",
      "100/100 [==============================] - 114s 1s/step - loss: 0.1067 - accuracy: 0.9665 - val_loss: 0.7707 - val_accuracy: 0.7420\n",
      "Epoch 24/30\n",
      "100/100 [==============================] - 111s 1s/step - loss: 0.0922 - accuracy: 0.9690 - val_loss: 0.9110 - val_accuracy: 0.7200\n",
      "Epoch 25/30\n",
      "100/100 [==============================] - 104s 1s/step - loss: 0.0832 - accuracy: 0.9770 - val_loss: 0.9572 - val_accuracy: 0.7320\n",
      "Epoch 26/30\n",
      "100/100 [==============================] - 112s 1s/step - loss: 0.0772 - accuracy: 0.9765 - val_loss: 0.8127 - val_accuracy: 0.7510\n",
      "Epoch 27/30\n",
      "100/100 [==============================] - 103s 1s/step - loss: 0.0646 - accuracy: 0.9815 - val_loss: 0.9431 - val_accuracy: 0.7410\n",
      "Epoch 28/30\n",
      "100/100 [==============================] - 105s 1s/step - loss: 0.0536 - accuracy: 0.9885 - val_loss: 0.9056 - val_accuracy: 0.7380\n",
      "Epoch 29/30\n",
      "100/100 [==============================] - 102s 1s/step - loss: 0.0468 - accuracy: 0.9880 - val_loss: 1.0747 - val_accuracy: 0.7330\n",
      "Epoch 30/30\n",
      " 99/100 [============================>.] - ETA: 0s - loss: 0.0388 - accuracy: 0.9894"
     ]
    }
   ],
   "source": [
    "history = model1.fit_generator(\n",
    "    train_generator,\n",
    "    steps_per_epoch=100,\n",
    "    epochs=30,\n",
    "    validation_data=validation_generator,\n",
    "    validation_steps=50\n",
    ")"
   ]
  },
  {
   "cell_type": "code",
   "execution_count": null,
   "id": "891830fc",
   "metadata": {},
   "outputs": [],
   "source": []
  }
 ],
 "metadata": {
  "kernelspec": {
   "display_name": "Python 3 (ipykernel)",
   "language": "python",
   "name": "python3"
  },
  "language_info": {
   "codemirror_mode": {
    "name": "ipython",
    "version": 3
   },
   "file_extension": ".py",
   "mimetype": "text/x-python",
   "name": "python",
   "nbconvert_exporter": "python",
   "pygments_lexer": "ipython3",
   "version": "3.10.12"
  }
 },
 "nbformat": 4,
 "nbformat_minor": 5
}
